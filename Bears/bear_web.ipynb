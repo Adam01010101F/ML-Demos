{
 "metadata": {
  "language_info": {
   "codemirror_mode": {
    "name": "ipython",
    "version": 3
   },
   "file_extension": ".py",
   "mimetype": "text/x-python",
   "name": "python",
   "nbconvert_exporter": "python",
   "pygments_lexer": "ipython3",
   "version": "3.8.8"
  },
  "orig_nbformat": 2,
  "kernelspec": {
   "name": "python3",
   "display_name": "Python 3.8.8 64-bit ('fastai': conda)"
  },
  "interpreter": {
   "hash": "036c11abc3ab88238d41199efeaa0386619bc96fd7b165c877df612ebf944ec6"
  }
 },
 "nbformat": 4,
 "nbformat_minor": 2,
 "cells": [
  {
   "cell_type": "code",
   "execution_count": 3,
   "metadata": {},
   "outputs": [
    {
     "output_type": "execute_result",
     "data": {
      "text/plain": [
       "<function fastbook.setup_book()>"
      ]
     },
     "metadata": {},
     "execution_count": 3
    }
   ],
   "source": [
    "import fastbook\n",
    "fastbook.setup_book"
   ]
  },
  {
   "cell_type": "code",
   "execution_count": 2,
   "metadata": {},
   "outputs": [
    {
     "output_type": "stream",
     "name": "stdout",
     "text": [
      "Requirement already satisfied: voila in c:\\users\\zzz\\.conda\\envs\\fastai\\lib\\site-packages (0.2.10)\n",
      "Requirement already satisfied: jupyter-server<2.0.0,>=0.3.0 in c:\\users\\zzz\\.conda\\envs\\fastai\\lib\\site-packages (from voila) (1.4.1)\n",
      "Requirement already satisfied: nbclient<0.6,>=0.4.0 in c:\\users\\zzz\\.conda\\envs\\fastai\\lib\\site-packages (from voila) (0.5.3)\n",
      "Requirement already satisfied: nbconvert<7,>=6.0.0 in c:\\users\\zzz\\.conda\\envs\\fastai\\lib\\site-packages (from voila) (6.1.0)\n",
      "Requirement already satisfied: jupyter-client<7,>=6.1.3 in c:\\users\\zzz\\.conda\\envs\\fastai\\lib\\site-packages (from voila) (6.1.12)\n",
      "Requirement already satisfied: traitlets in c:\\users\\zzz\\.conda\\envs\\fastai\\lib\\site-packages (from jupyter-client<7,>=6.1.3->voila) (5.0.5)\n",
      "Requirement already satisfied: python-dateutil>=2.1 in c:\\users\\zzz\\.conda\\envs\\fastai\\lib\\site-packages (from jupyter-client<7,>=6.1.3->voila) (2.8.1)\n",
      "Requirement already satisfied: jupyter-core>=4.6.0 in c:\\users\\zzz\\.conda\\envs\\fastai\\lib\\site-packages (from jupyter-client<7,>=6.1.3->voila) (4.7.1)\n",
      "Requirement already satisfied: tornado>=4.1 in c:\\users\\zzz\\.conda\\envs\\fastai\\lib\\site-packages (from jupyter-client<7,>=6.1.3->voila) (6.1)\n",
      "Requirement already satisfied: pyzmq>=13 in c:\\users\\zzz\\.conda\\envs\\fastai\\lib\\site-packages (from jupyter-client<7,>=6.1.3->voila) (20.0.0)\n",
      "Requirement already satisfied: pywin32>=1.0 in c:\\users\\zzz\\.conda\\envs\\fastai\\lib\\site-packages (from jupyter-core>=4.6.0->jupyter-client<7,>=6.1.3->voila) (227)\n",
      "Requirement already satisfied: anyio>=2.0.2 in c:\\users\\zzz\\.conda\\envs\\fastai\\lib\\site-packages (from jupyter-server<2.0.0,>=0.3.0->voila) (2.2.0)\n",
      "Requirement already satisfied: Send2Trash in c:\\users\\zzz\\.conda\\envs\\fastai\\lib\\site-packages (from jupyter-server<2.0.0,>=0.3.0->voila) (1.5.0)\n",
      "Requirement already satisfied: ipython-genutils in c:\\users\\zzz\\.conda\\envs\\fastai\\lib\\site-packages (from jupyter-server<2.0.0,>=0.3.0->voila) (0.2.0)\n",
      "Requirement already satisfied: terminado>=0.8.3 in c:\\users\\zzz\\.conda\\envs\\fastai\\lib\\site-packages (from jupyter-server<2.0.0,>=0.3.0->voila) (0.9.4)\n",
      "Requirement already satisfied: prometheus-client in c:\\users\\zzz\\.conda\\envs\\fastai\\lib\\site-packages (from jupyter-server<2.0.0,>=0.3.0->voila) (0.10.1)\n",
      "Requirement already satisfied: jinja2 in c:\\users\\zzz\\.conda\\envs\\fastai\\lib\\site-packages (from jupyter-server<2.0.0,>=0.3.0->voila) (2.11.3)\n",
      "Requirement already satisfied: nbformat in c:\\users\\zzz\\.conda\\envs\\fastai\\lib\\site-packages (from jupyter-server<2.0.0,>=0.3.0->voila) (5.1.3)\n",
      "Requirement already satisfied: idna>=2.8 in c:\\users\\zzz\\.conda\\envs\\fastai\\lib\\site-packages (from anyio>=2.0.2->jupyter-server<2.0.0,>=0.3.0->voila) (2.10)\n",
      "Requirement already satisfied: sniffio>=1.1 in c:\\users\\zzz\\.conda\\envs\\fastai\\lib\\site-packages (from anyio>=2.0.2->jupyter-server<2.0.0,>=0.3.0->voila) (1.2.0)\n",
      "Requirement already satisfied: nest-asyncio in c:\\users\\zzz\\.conda\\envs\\fastai\\lib\\site-packages (from nbclient<0.6,>=0.4.0->voila) (1.5.1)\n",
      "Requirement already satisfied: async-generator in c:\\users\\zzz\\.conda\\envs\\fastai\\lib\\site-packages (from nbclient<0.6,>=0.4.0->voila) (1.10)\n",
      "Requirement already satisfied: pygments>=2.4.1 in c:\\users\\zzz\\.conda\\envs\\fastai\\lib\\site-packages (from nbconvert<7,>=6.0.0->voila) (2.8.1)\n",
      "Requirement already satisfied: pandocfilters>=1.4.1 in c:\\users\\zzz\\.conda\\envs\\fastai\\lib\\site-packages (from nbconvert<7,>=6.0.0->voila) (1.4.3)\n",
      "Requirement already satisfied: testpath in c:\\users\\zzz\\.conda\\envs\\fastai\\lib\\site-packages (from nbconvert<7,>=6.0.0->voila) (0.4.4)\n",
      "Requirement already satisfied: mistune<2,>=0.8.1 in c:\\users\\zzz\\.conda\\envs\\fastai\\lib\\site-packages (from nbconvert<7,>=6.0.0->voila) (0.8.4)\n",
      "Requirement already satisfied: entrypoints>=0.2.2 in c:\\users\\zzz\\.conda\\envs\\fastai\\lib\\site-packages (from nbconvert<7,>=6.0.0->voila) (0.3)\n",
      "Requirement already satisfied: defusedxml in c:\\users\\zzz\\.conda\\envs\\fastai\\lib\\site-packages (from nbconvert<7,>=6.0.0->voila) (0.7.1)\n",
      "Requirement already satisfied: bleach in c:\\users\\zzz\\.conda\\envs\\fastai\\lib\\site-packages (from nbconvert<7,>=6.0.0->voila) (3.3.0)\n",
      "Requirement already satisfied: jupyterlab-pygments in c:\\users\\zzz\\.conda\\envs\\fastai\\lib\\site-packages (from nbconvert<7,>=6.0.0->voila) (0.1.2)\n",
      "Requirement already satisfied: MarkupSafe>=0.23 in c:\\users\\zzz\\.conda\\envs\\fastai\\lib\\site-packages (from jinja2->jupyter-server<2.0.0,>=0.3.0->voila) (1.1.1)\n",
      "Requirement already satisfied: jsonschema!=2.5.0,>=2.4 in c:\\users\\zzz\\.conda\\envs\\fastai\\lib\\site-packages (from nbformat->jupyter-server<2.0.0,>=0.3.0->voila) (3.0.2)\n",
      "Requirement already satisfied: setuptools in c:\\users\\zzz\\.conda\\envs\\fastai\\lib\\site-packages (from jsonschema!=2.5.0,>=2.4->nbformat->jupyter-server<2.0.0,>=0.3.0->voila) (52.0.0.post20210125)\n",
      "Requirement already satisfied: six>=1.11.0 in c:\\users\\zzz\\.conda\\envs\\fastai\\lib\\site-packages (from jsonschema!=2.5.0,>=2.4->nbformat->jupyter-server<2.0.0,>=0.3.0->voila) (1.15.0)\n",
      "Requirement already satisfied: pyrsistent>=0.14.0 in c:\\users\\zzz\\.conda\\envs\\fastai\\lib\\site-packages (from jsonschema!=2.5.0,>=2.4->nbformat->jupyter-server<2.0.0,>=0.3.0->voila) (0.17.3)\n",
      "Requirement already satisfied: attrs>=17.4.0 in c:\\users\\zzz\\.conda\\envs\\fastai\\lib\\site-packages (from jsonschema!=2.5.0,>=2.4->nbformat->jupyter-server<2.0.0,>=0.3.0->voila) (20.3.0)\n",
      "Requirement already satisfied: pywinpty>=0.5 in c:\\users\\zzz\\.conda\\envs\\fastai\\lib\\site-packages (from terminado>=0.8.3->jupyter-server<2.0.0,>=0.3.0->voila) (0.5.7)\n",
      "Requirement already satisfied: webencodings in c:\\users\\zzz\\.conda\\envs\\fastai\\lib\\site-packages (from bleach->nbconvert<7,>=6.0.0->voila) (0.5.1)\n",
      "Requirement already satisfied: packaging in c:\\users\\zzz\\.conda\\envs\\fastai\\lib\\site-packages (from bleach->nbconvert<7,>=6.0.0->voila) (20.9)\n",
      "Requirement already satisfied: pyparsing>=2.0.2 in c:\\users\\zzz\\.conda\\envs\\fastai\\lib\\site-packages (from packaging->bleach->nbconvert<7,>=6.0.0->voila) (2.4.7)\n",
      "Enabling: voila\n",
      "- Writing config: C:\\Users\\ZZZ\\.conda\\envs\\fastai\\etc\\jupyter\n",
      "    - Validating...\n",
      "      voila 0.2.10 ok\n"
     ]
    }
   ],
   "source": [
    "# One time run\n",
    "#!pip install voila\n",
    "#!jupyter serverextension enable --sys-prefix voila"
   ]
  },
  {
   "cell_type": "code",
   "execution_count": null,
   "metadata": {},
   "outputs": [],
   "source": [
    "path = Path()\n",
    "learn_inf = load_learner(path/'export.pkl')"
   ]
  },
  {
   "source": [
    "W"
   ],
   "cell_type": "markdown",
   "metadata": {}
  }
 ]
}